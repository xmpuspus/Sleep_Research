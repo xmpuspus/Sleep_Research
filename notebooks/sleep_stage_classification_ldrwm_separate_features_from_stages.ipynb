{
 "cells": [
  {
   "cell_type": "markdown",
   "metadata": {},
   "source": [
    "# Detection of stages: Light, Deep, REM, Wake Movement"
   ]
  },
  {
   "cell_type": "markdown",
   "metadata": {},
   "source": [
    "Database source: \n",
    "    \n",
    "    Goldberger AL, Amaral LAN, Glass L, Hausdorff JM, Ivanov PCh, Mark RG, Mietus JE, Moody GB, Peng C-K, Stanley HE. PhysioBank, PhysioToolkit, and PhysioNet: Components of a New Research Resource for Complex Physiologic Signals. Circulation 101(23):e215-e220 [Circulation Electronic Pages; http://circ.ahajournals.org/content/101/23/e215.full]; 2000 (June 13).\n"
   ]
  },
  {
   "cell_type": "code",
   "execution_count": 1,
   "metadata": {
    "collapsed": false
   },
   "outputs": [],
   "source": [
    "from __future__ import division\n",
    "import os\n",
    "import json\n",
    "import numpy as np\n",
    "import pandas as pd\n",
    "import matplotlib.pyplot as plt\n",
    "import scipy.signal as ss\n",
    "import seaborn as sns\n",
    "from scipy.ndimage import convolve1d\n",
    "import itertools\n",
    "import sleep_utils as su\n",
    "\n",
    "# import psycopg2\n",
    "import datetime  \n",
    "import time \n",
    "import wfdb\n",
    "import glob\n",
    "\n",
    "from biosppy.signals import ecg\n",
    "\n",
    "%matplotlib inline\n",
    "sns.set()\n",
    "pd.set_option(\"display.max_columns\", None)\n",
    "%load_ext autoreload\n",
    "%autoreload 2"
   ]
  },
  {
   "cell_type": "markdown",
   "metadata": {},
   "source": [
    "## Load a file from database"
   ]
  },
  {
   "cell_type": "code",
   "execution_count": 2,
   "metadata": {
    "collapsed": false
   },
   "outputs": [],
   "source": [
    "data_dir = '../data/PSG_database/'\n",
    "\n",
    "co2_sig = []\n",
    "ppg_sig = []\n",
    "\n",
    "filenames = []\n",
    "\n",
    "sleep_data_sigs = {}\n",
    "sleep_data_fields = {}\n",
    "\n",
    "data_keys = []\n",
    "for fname in glob.iglob(data_dir + '/*.dat'):#, recursive=True):\n",
    "    # filename manipulation\n",
    "    base = os.path.basename(fname)\n",
    "    key = os.path.splitext(base)[0]\n",
    "    data_keys.append(key)\n",
    "    \n",
    "    # load data\n",
    "    sig, fields=wfdb.rdsamp(data_dir+key)\n",
    "    sleep_data_sigs[key] = sig\n",
    "    sleep_data_fields[key] = fields"
   ]
  },
  {
   "cell_type": "code",
   "execution_count": 3,
   "metadata": {
    "collapsed": false,
    "scrolled": true
   },
   "outputs": [],
   "source": [
    "ann_index = {}\n",
    "ann_labels = {}\n",
    "\n",
    "set_stages = set()\n",
    "for key in data_keys:\n",
    "    annotation = wfdb.rdann(data_dir + key, 'st')\n",
    "    ann_index_sig = annotation[0]\n",
    "    ann_label_sig = annotation[5]\n",
    "    label_filt = [(x, y) for x, y in zip(ann_index_sig, ann_label_sig) if x >1 ]\n",
    "    unzipped = zip(*label_filt)\n",
    "    ann_index[key] = unzipped[0]\n",
    "    ann_labels[key] = unzipped[1]\n"
   ]
  },
  {
   "cell_type": "code",
   "execution_count": 4,
   "metadata": {
    "collapsed": false,
    "scrolled": false
   },
   "outputs": [],
   "source": [
    "resp_data_set = {}\n",
    "ecg_data_set = {}\n",
    "time_data_set = {}\n",
    "annot_data_set = {}\n",
    "\n",
    "fs = 250\n",
    "dec_prec = len(str(1/fs).split('.')[1])\n",
    "\n",
    "for key in data_keys:\n",
    "    \n",
    "    resp_data_set[key] = (sleep_data_sigs[key])[:, (sleep_data_fields[key])['signame'].index('Resp')]\n",
    "    ecg_data_set[key] = (sleep_data_sigs[key])[:, (sleep_data_fields[key])['signame'].index('ECG')]\n",
    "    time_data_set[key] = np.arange(0, len(resp_data_set[key]))/fs\n",
    "\n",
    "    # Note: Only the first character of the annotation was taken as label\n",
    "    # Example: 1, 2, 3, 4, R, W, M\n",
    "    stages_list = [x.rsplit(' ')[0][0] for x in ann_labels[key]]\n",
    "\n",
    "    annot_data_set[key] = stages_list\n"
   ]
  },
  {
   "cell_type": "markdown",
   "metadata": {},
   "source": [
    "#### *Annotations*\n",
    "\n",
    "Stages:\n",
    "   * W: subject is awake\n",
    "   * 1: sleep stage 1\n",
    "   * 2: sleep stage 2\n",
    "   * 3: sleep stage 3\n",
    "   * 4: sleep stage 4\n",
    "   * R: REM sleep\n",
    "   \n",
    "Other descriptions:\n",
    "   * H: Hypopnea\n",
    "   * HA: Hypopnea with arousal\n",
    "   * OA: Obstructive apnea\n",
    "   * X: Obstructive apnea with arousal\n",
    "   * CA: Central apnea\n",
    "   * CAA: Central apnea with arousal\n",
    "   * L: Leg movements\n",
    "   * LA: Leg movements with arousal\n",
    "   * A: Unspecified arousal\n",
    "   * MT: Movement time"
   ]
  },
  {
   "cell_type": "markdown",
   "metadata": {},
   "source": [
    "## Get Features"
   ]
  },
  {
   "cell_type": "markdown",
   "metadata": {},
   "source": [
    "### I. Previous sleep stage"
   ]
  },
  {
   "cell_type": "markdown",
   "metadata": {},
   "source": [
    "Note: Get features for every window of data"
   ]
  },
  {
   "cell_type": "code",
   "execution_count": 5,
   "metadata": {
    "collapsed": true
   },
   "outputs": [],
   "source": [
    "win_dur = 30 # duration of window, unit: seconds, size of one epoch \n",
    "win_size = fs*win_dur # length of window\n",
    "win_step = 1 # duration by which the window slides, unit: seconds\n",
    "win_int = win_step*fs # length by which the window slides"
   ]
  },
  {
   "cell_type": "code",
   "execution_count": 6,
   "metadata": {
    "collapsed": false,
    "scrolled": true
   },
   "outputs": [],
   "source": [
    "feature_prev_stage = {}\n",
    "feature_prev_stage_light = {}\n",
    "feature_prev_stage_deep = {}\n",
    "feature_prev_stage_rem = {}\n",
    "feature_prev_stage_wake = {}\n",
    "feature_prev_stage_move = {}\n",
    "\n",
    "for key in data_keys:\n",
    "    previous = annot_data_set[key][1:]\n",
    "    prev_stage = [np.nan] + previous\n",
    "    feature_prev_stage[key] = {'_feat' : prev_stage}\n",
    "    \n",
    "    # NREM-light or not\n",
    "    feature_prev_stage_light[key] = {'_feat' : [np.nan] +map(lambda x: 0 if x not in ['1', '2'] else 1, previous)}\n",
    "    \n",
    "    # NREM-deep or not\n",
    "    feature_prev_stage_deep[key] = {'_feat' : [np.nan] +map(lambda x: 0 if x not in ['1', '2'] else 1, previous)}\n",
    "    \n",
    "    # REM or not\n",
    "    feature_prev_stage_rem[key] = {'_feat' : [np.nan] + map(lambda x: 0 if x!= 'R' else 1,previous)}\n",
    "    \n",
    "    # Wake or not\n",
    "    feature_prev_stage_wake[key] = {'_feat' :[np.nan] + map(lambda x: 0 if x!= 'W' else 1,previous)}\n",
    "    \n",
    "    # Wake or not\n",
    "    feature_prev_stage_move[key] = {'_feat' :[np.nan] + map(lambda x: 0 if x!= 'M' else 1,previous)}\n"
   ]
  },
  {
   "cell_type": "markdown",
   "metadata": {},
   "source": [
    "### II. Respiration signal"
   ]
  },
  {
   "cell_type": "markdown",
   "metadata": {},
   "source": [
    "Divide respiration data per 30-second epoch. "
   ]
  },
  {
   "cell_type": "code",
   "execution_count": 7,
   "metadata": {
    "collapsed": false,
    "scrolled": true
   },
   "outputs": [],
   "source": [
    "# Respiratory frequency range \n",
    "min_normrange = 4/60 # unit: cycles per second\n",
    "max_normrange = 65/60 # unit: cycles per second\n",
    "\n",
    "resp_data_set_epochs = {}\n",
    "\n",
    "for key in data_keys:\n",
    "    resp_sig = resp_data_set[key]\n",
    "    fft_resp = np.fft.fft(resp_sig)\n",
    "    fft_freqs = np.fft.fftfreq(len(resp_sig), 1/fs)\n",
    "    \n",
    "    # Remove frequencies which are outside the expected range\n",
    "    fft_resp[abs(fft_freqs) < min_normrange] = 0\n",
    "    fft_resp[abs(fft_freqs) > max_normrange] = 0\n",
    "    \n",
    "    resp_filt_sig = np.real(np.fft.ifft(fft_resp))\n",
    "    time_sig = np.arange(len(resp_sig))/fs\n",
    "\n",
    "    # Divide into windows\n",
    "    resp_windows = su.divide_to_epochs(resp_filt_sig, ann_index[key], win_dur, fs)\n",
    "    time_windows = su.divide_to_epochs(time_sig, ann_index[key], win_dur, fs)\n",
    "    \n",
    "    resp_data_set_epochs[key] = pd.DataFrame({'resp': list(resp_windows), '_time': list(time_windows)})\n"
   ]
  },
  {
   "cell_type": "markdown",
   "metadata": {},
   "source": [
    "#### II.1 Respiration rate\n",
    "*Frequency corresponding to the highest peak in the epoch's power spectrum (unit: breaths/minute)*"
   ]
  },
  {
   "cell_type": "code",
   "execution_count": 8,
   "metadata": {
    "collapsed": false,
    "scrolled": true
   },
   "outputs": [],
   "source": [
    "feature_resp_rate = {}\n",
    "# feature_resp_rate_fd = {}\n",
    "# feature_resp_rate_sd = {}\n",
    "\n",
    "for key in data_keys:\n",
    "    resp_data = resp_data_set_epochs[key]\n",
    "    resp_data['power_spectrum'] = resp_data.resp.apply(lambda x: ss.periodogram(x, fs=fs))\n",
    "    \n",
    "    # Compute respiration rate\n",
    "    resp_data['resp_rate'] = resp_data.power_spectrum.apply(lambda x: (x[0])[np.argmax(x[1])]*60)\n",
    "\n",
    "    feature_resp_rate[key] = {'_feat' : resp_data.resp_rate.values}\n"
   ]
  },
  {
   "cell_type": "markdown",
   "metadata": {},
   "source": [
    "#### II.2 Histogram of Respiration data\n",
    "Use the counts for each bin of the magnitude histogram."
   ]
  },
  {
   "cell_type": "code",
   "execution_count": 9,
   "metadata": {
    "collapsed": false
   },
   "outputs": [],
   "source": [
    "nbins = 5\n",
    "\n",
    "feature_hist_resp = {}\n",
    "\n",
    "for key in data_keys:\n",
    "#     print(\"Computing for \"+ key + \"...\")\n",
    "    resp_data = resp_data_set_epochs[key]\n",
    "\n",
    "    hist_windows = resp_data.resp.apply(lambda x: np.histogram(x, bins=nbins, normed=True)[0])\n",
    "    feature_hist_resp[key] = {'_feat' : (np.asarray(hist_windows))}"
   ]
  },
  {
   "cell_type": "markdown",
   "metadata": {
    "collapsed": false,
    "scrolled": true
   },
   "source": [
    "#### II.3 Ratio of standard deviation and mean of magnitude"
   ]
  },
  {
   "cell_type": "code",
   "execution_count": 10,
   "metadata": {
    "collapsed": false
   },
   "outputs": [],
   "source": [
    "feature_mean_vs_std_resp = {}\n",
    "\n",
    "for key in data_keys:\n",
    "#     print(\"Computing for \"+ key + \"...\")\n",
    "    resp_data = resp_data_set_epochs[key]\n",
    "\n",
    "    mean_vs_std = resp_data.resp.apply(lambda x: (np.mean(x)/np.std(x)))\n",
    "    feature_mean_vs_std_resp[key] = {'_feat' : list(mean_vs_std)}"
   ]
  },
  {
   "cell_type": "markdown",
   "metadata": {
    "collapsed": false,
    "scrolled": false
   },
   "source": [
    "### III. ECG signal"
   ]
  },
  {
   "cell_type": "markdown",
   "metadata": {},
   "source": [
    "Divide ECG data per 30-second epoch. "
   ]
  },
  {
   "cell_type": "code",
   "execution_count": 11,
   "metadata": {
    "collapsed": false,
    "scrolled": true
   },
   "outputs": [],
   "source": [
    "ecg_data_set_epochs = {}\n",
    "\n",
    "for key in data_keys:\n",
    "    ecg_sig = ecg_data_set[key]\n",
    "    time_sig = np.arange(len(ecg_sig))/fs\n",
    "\n",
    "    # Divide into windows\n",
    "    ecg_windows = su.divide_to_epochs(ecg_sig, ann_index[key], win_dur, fs)\n",
    "    time_windows = su.divide_to_epochs(time_sig, ann_index[key], win_dur, fs)\n",
    "    \n",
    "    ecg_data_set_epochs[key] = pd.DataFrame({'ecg': list(ecg_windows), '_time': list(time_windows)})\n"
   ]
  },
  {
   "cell_type": "markdown",
   "metadata": {},
   "source": [
    "#### III.1 Heart rate\n",
    "*Reciprocal of the mean R-R interval in an epoch (unit: beats/minute)*\n",
    "\n",
    "\n",
    "#### III.2 Heart rate variability\n",
    "*Standard deviation of the R-R intervals in an epoch (unit: milliseconds)*\n"
   ]
  },
  {
   "cell_type": "code",
   "execution_count": 12,
   "metadata": {
    "collapsed": false,
    "scrolled": true
   },
   "outputs": [],
   "source": [
    "feature_heart_rate = {}\n",
    "feature_heart_rate_var = {}\n",
    "\n",
    "for key in data_keys:\n",
    "    ecg_data = ecg_data_set_epochs[key]\n",
    "    \n",
    "    # Get time corresponding to R peaks\n",
    "    ecg_data['r_peaks'] = ecg_data.ecg.apply(lambda x: ecg.hamilton_segmenter(x, sampling_rate=250)['rpeaks'])\n",
    "    ecg_data['r_time'] = ecg_data.apply(lambda x: list(x._time[x.r_peaks]), axis = 1)\n",
    "    \n",
    "    # Compute heart rate\n",
    "    ecg_data['heart_rate'] = ecg_data.r_time.apply(lambda x: su.heart_rate(np.array(x))*60)\n",
    "    ecg_data['window_time'] = ecg_data['_time'].apply(lambda x: x[-1])\n",
    "        \n",
    "    # Compute heart rate variability\n",
    "    ecg_data['heart_rate_var'] = ecg_data.r_time.apply(lambda x: su.heart_rate_var(np.array(x))*1000)\n",
    "    \n",
    "    feature_heart_rate[key] = {'_feat' : ecg_data.heart_rate.values}\n",
    "    feature_heart_rate_var[key] = {'_feat' : ecg_data.heart_rate_var.values}"
   ]
  },
  {
   "cell_type": "markdown",
   "metadata": {},
   "source": [
    "#### III.3 Histogram of ECG data\n",
    "Use the counts for each bin of the magnitude histogram."
   ]
  },
  {
   "cell_type": "code",
   "execution_count": 13,
   "metadata": {
    "collapsed": false,
    "scrolled": true
   },
   "outputs": [],
   "source": [
    "feature_hist_ecg = {}\n",
    "\n",
    "for key in data_keys:\n",
    "#     print(\"Computing for \"+ key + \"...\")\n",
    "    ecg_data = ecg_data_set_epochs[key]\n",
    "\n",
    "    hist_windows = ecg_data.ecg.apply(lambda x: np.histogram(x, bins=nbins, normed=True)[0])\n",
    "    feature_hist_ecg[key] = {'_feat' : (np.asarray(hist_windows))}"
   ]
  },
  {
   "cell_type": "markdown",
   "metadata": {},
   "source": [
    "#### III.4 Ratio of standard deviation and mean of magnitude"
   ]
  },
  {
   "cell_type": "code",
   "execution_count": 14,
   "metadata": {
    "collapsed": true
   },
   "outputs": [],
   "source": [
    "feature_mean_vs_std_ecg = {}\n",
    "\n",
    "for key in data_keys:\n",
    "#     print(\"Computing for \"+ key + \"...\")\n",
    "    ecg_data = ecg_data_set_epochs[key]\n",
    "\n",
    "    mean_vs_std = ecg_data.ecg.apply(lambda x: (np.mean(x)/np.std(x)))\n",
    "    feature_mean_vs_std_ecg[key] = {'_feat' : list(mean_vs_std)}"
   ]
  },
  {
   "cell_type": "markdown",
   "metadata": {
    "collapsed": true
   },
   "source": [
    "## Compile features \n",
    "Combine features computed across all patients"
   ]
  },
  {
   "cell_type": "code",
   "execution_count": 15,
   "metadata": {
    "collapsed": false,
    "scrolled": false
   },
   "outputs": [],
   "source": [
    "# # features = [feature_prev_stage, feature_resp_rate, feature_hist_resp, \n",
    "# #             feature_heart_rate, feature_heart_rate_var, feature_hist_ecg, \n",
    "# #             feature_mean_vs_std_resp, feature_mean_vs_std_ecg]\n",
    "\n",
    "# features = [feature_resp_rate, feature_hist_resp, \n",
    "#             feature_heart_rate, feature_heart_rate_var, feature_hist_ecg, \n",
    "#             feature_mean_vs_std_resp, feature_mean_vs_std_ecg]\n",
    "\n",
    "\n",
    "# f_merge = []\n",
    "# for f in features:\n",
    "#     fm = []\n",
    "#     for key in data_keys:\n",
    "#         fm += list(f[key]['_feat'])\n",
    "#     f_merge.append(np.reshape(fm, [len(fm), -1]))\n",
    "    \n",
    "# sleep_features = np.hstack(f_merge)\n",
    "# # sleep_features[np.where(sleep_features == '1')] = 1\n",
    "# # sleep_features[np.where(sleep_features == '2')] = 2\n",
    "# # sleep_features[np.where(sleep_features == '3')] = 3\n",
    "# # sleep_features[np.where(sleep_features == '4')] = 3\n",
    "# # sleep_features[np.where(sleep_features == 'R')] = 4\n",
    "# # sleep_features[np.where(sleep_features == 'W')] = 5\n",
    "# # sleep_features[np.where(sleep_features == 'M')] = 6\n",
    "\n",
    "# merge_labels = np.hstack([annot_data_set[key] for key in data_keys])\n",
    "\n",
    "# merge_labels[np.where(merge_labels == '1')] = 1\n",
    "# merge_labels[np.where(merge_labels == '2')] = 2\n",
    "# merge_labels[np.where(merge_labels == '3')] = 3\n",
    "# merge_labels[np.where(merge_labels == '4')] = 3\n",
    "# merge_labels[np.where(merge_labels == 'R')] = 4\n",
    "# merge_labels[np.where(merge_labels == 'W')] = 5\n",
    "# merge_labels[np.where(merge_labels == 'M')] = 6"
   ]
  },
  {
   "cell_type": "code",
   "execution_count": 16,
   "metadata": {
    "collapsed": false
   },
   "outputs": [],
   "source": [
    "# features = [feature_prev_stage, feature_resp_rate, feature_hist_resp, \n",
    "#             feature_heart_rate, feature_heart_rate_var, feature_hist_ecg, \n",
    "#             feature_mean_vs_std_resp, feature_mean_vs_std_ecg]\n",
    "\n",
    "features = [feature_prev_stage_light, feature_prev_stage_deep, feature_prev_stage_rem, \n",
    "            feature_prev_stage_wake, feature_prev_stage_move,\n",
    "            feature_resp_rate, feature_hist_resp, feature_heart_rate, \n",
    "            feature_heart_rate_var, feature_hist_ecg, \n",
    "            feature_mean_vs_std_resp, feature_mean_vs_std_ecg]\n",
    "\n",
    "\n",
    "f_merge = []\n",
    "for f in features:\n",
    "    fm = []\n",
    "    for key in data_keys:\n",
    "        fm += list(f[key]['_feat'])\n",
    "    f_merge.append(np.reshape(fm, [len(fm), -1]))\n",
    "    \n",
    "sleep_features = np.hstack(f_merge)\n",
    "\n",
    "merge_labels = np.hstack([annot_data_set[key] for key in data_keys])\n",
    "\n",
    "merge_labels[np.where(merge_labels == '1')] = 1\n",
    "merge_labels[np.where(merge_labels == '2')] = 2\n",
    "merge_labels[np.where(merge_labels == '3')] = 3\n",
    "merge_labels[np.where(merge_labels == '4')] = 3\n",
    "merge_labels[np.where(merge_labels == 'R')] = 4\n",
    "merge_labels[np.where(merge_labels == 'W')] = 5\n",
    "merge_labels[np.where(merge_labels == 'M')] = 6\n"
   ]
  },
  {
   "cell_type": "code",
   "execution_count": 17,
   "metadata": {
    "collapsed": false
   },
   "outputs": [],
   "source": [
    "sleep_features = np.array(sleep_features, dtype = float)\n",
    "sleep_data = sleep_features[np.isfinite(sleep_features).all(axis=1)]\n",
    "sleep_labels = np.reshape(merge_labels, [len(merge_labels), 1])[np.isfinite(sleep_features).all(axis=1)]"
   ]
  },
  {
   "cell_type": "markdown",
   "metadata": {},
   "source": [
    "## Classify"
   ]
  },
  {
   "cell_type": "code",
   "execution_count": 18,
   "metadata": {
    "collapsed": true
   },
   "outputs": [],
   "source": [
    "from sklearn.neighbors import KNeighborsClassifier\n",
    "from sklearn.svm import SVC\n",
    "from sklearn.tree import DecisionTreeClassifier\n",
    "from sklearn.ensemble import RandomForestClassifier, AdaBoostClassifier\n",
    "from sklearn.naive_bayes import GaussianNB\n",
    "from sklearn.discriminant_analysis import QuadraticDiscriminantAnalysis"
   ]
  },
  {
   "cell_type": "code",
   "execution_count": 19,
   "metadata": {
    "collapsed": false,
    "scrolled": true
   },
   "outputs": [
    {
     "name": "stderr",
     "output_type": "stream",
     "text": [
      "/Users/eventura/anaconda/lib/python2.7/site-packages/sklearn/cross_validation.py:44: DeprecationWarning: This module was deprecated in version 0.18 in favor of the model_selection module into which all the refactored classes and functions are moved. Also note that the interface of the new CV iterators are different from that of this module. This module will be removed in 0.20.\n",
      "  \"This module will be removed in 0.20.\", DeprecationWarning)\n"
     ]
    }
   ],
   "source": [
    "from sklearn.preprocessing import StandardScaler\n",
    "from sklearn.cross_validation import train_test_split\n",
    "from sklearn.metrics import accuracy_score\n",
    "from sklearn.metrics import confusion_matrix"
   ]
  },
  {
   "cell_type": "code",
   "execution_count": 20,
   "metadata": {
    "collapsed": true
   },
   "outputs": [],
   "source": [
    "## Feature selection\n",
    "from sklearn.feature_selection import RFE\n",
    "from sklearn.feature_selection import SelectKBest\n",
    "from sklearn.feature_selection import f_regression"
   ]
  },
  {
   "cell_type": "code",
   "execution_count": 21,
   "metadata": {
    "collapsed": true
   },
   "outputs": [],
   "source": [
    "sleep_data_scaled = StandardScaler().fit_transform(sleep_data)\n",
    "train_set, test_set, train_label, test_label = train_test_split(sleep_data_scaled, sleep_labels, test_size=0.33, random_state=42)\n",
    "\n",
    "train_label = np.ndarray.flatten(train_label).astype(float)\n",
    "test_label = np.ndarray.flatten(test_label).astype(float)"
   ]
  },
  {
   "cell_type": "code",
   "execution_count": 22,
   "metadata": {
    "collapsed": true
   },
   "outputs": [],
   "source": [
    "names = [\"Nearest Neighbors\", \"Decision Tree\", \"Random Forest\", \"AdaBoost\",\n",
    "         \"Naive Bayes\", \"QDA\", \"Linear SVM\", \"RBF SVM\",]\n",
    "\n",
    "classifiers = [\n",
    "    KNeighborsClassifier(3),\n",
    "    DecisionTreeClassifier(max_depth=5),\n",
    "    RandomForestClassifier(max_depth=10, n_estimators=10, max_features=1),\n",
    "    AdaBoostClassifier(),\n",
    "    GaussianNB(),\n",
    "    QuadraticDiscriminantAnalysis(), \n",
    "    SVC(kernel=\"linear\", C=0.025),\n",
    "    SVC(gamma=2, C=1)]"
   ]
  },
  {
   "cell_type": "code",
   "execution_count": 23,
   "metadata": {
    "collapsed": false
   },
   "outputs": [
    {
     "name": "stdout",
     "output_type": "stream",
     "text": [
      "Training Nearest Neighbors\n",
      "('Nearest Neighbors', 0.87332339791356184)\n",
      "[[ 337  273    0    0    0    0]\n",
      " [ 150 1092    0    0    1    0]\n",
      " [   0    0  211    0    1    0]\n",
      " [   0    0    0  230    0    0]\n",
      " [   0    0    0    0 1054    0]\n",
      " [   0    0    0    0    0    6]]\n",
      "\n",
      "\n",
      "Training Decision Tree\n",
      "('Decision Tree', 0.8461997019374069)\n",
      "[[ 284  326    0    0    0    0]\n",
      " [ 190 1053    0    0    0    0]\n",
      " [   0    0  212    0    0    0]\n",
      " [   0    0    0  230    0    0]\n",
      " [   0    0    0    0 1054    0]\n",
      " [   0    0    0    0    0    6]]\n",
      "\n",
      "\n",
      "Training Random Forest\n",
      "('Random Forest', 0.84679582712369594)\n",
      "[[ 237  370    0    0    3    0]\n",
      " [  80 1161    0    0    2    0]\n",
      " [   0    4  163    0   45    0]\n",
      " [   0    0    0  223    7    0]\n",
      " [   0    0    0    0 1054    0]\n",
      " [   0    0    1    0    2    3]]\n",
      "\n",
      "\n",
      "Training AdaBoost\n",
      "('AdaBoost', 0.75499254843517138)\n",
      "[[   0  610    0    0    0    0]\n",
      " [   0 1243    0    0    0    0]\n",
      " [   0  212    0    0    0    0]\n",
      " [   0    0    0  230    0    0]\n",
      " [   0    0    0    0 1054    0]\n",
      " [   0    0    0    0    0    6]]\n",
      "\n",
      "\n",
      "Training Naive Bayes\n",
      "('Naive Bayes', 0.80536512667660209)\n",
      "[[  28  582    0    0    0    0]\n",
      " [  71 1172    0    0    0    0]\n",
      " [   0    0  212    0    0    0]\n",
      " [   0    0    0  230    0    0]\n",
      " [   0    0    0    0 1054    0]\n",
      " [   0    0    0    0    0    6]]\n",
      "\n",
      "\n",
      "Training QDA\n",
      "('QDA', 0.65901639344262297)\n",
      "[[ 569   41    0    0    0    0]\n",
      " [1103  140    0    0    0    0]\n",
      " [   0    0  212    0    0    0]\n",
      " [   0    0    0  230    0    0]\n",
      " [   0    0    0    0 1054    0]\n",
      " [   0    0    0    0    0    6]]\n",
      "\n",
      "\n",
      "Training Linear SVM\n"
     ]
    },
    {
     "name": "stderr",
     "output_type": "stream",
     "text": [
      "/Users/eventura/anaconda/lib/python2.7/site-packages/sklearn/discriminant_analysis.py:695: UserWarning: Variables are collinear\n",
      "  warnings.warn(\"Variables are collinear\")\n"
     ]
    },
    {
     "name": "stdout",
     "output_type": "stream",
     "text": [
      "('Linear SVM', 0.84053651266766016)\n",
      "[[ 232  378    0    0    0    0]\n",
      " [ 157 1086    0    0    0    0]\n",
      " [   0    0  212    0    0    0]\n",
      " [   0    0    0  230    0    0]\n",
      " [   0    0    0    0 1054    0]\n",
      " [   0    0    0    0    0    6]]\n",
      "\n",
      "\n",
      "Training RBF SVM\n",
      "('RBF SVM', 0.83189269746646799)\n",
      "[[ 260  319    0    0   31    0]\n",
      " [  89 1127    0    0   27    0]\n",
      " [   0    0  182    0   30    0]\n",
      " [   0    0    0  168   62    0]\n",
      " [   0    0    0    0 1054    0]\n",
      " [   0    0    0    0    6    0]]\n",
      "\n",
      "\n"
     ]
    }
   ],
   "source": [
    "for i in np.arange(len(classifiers)):\n",
    "    print('Training ' + names[i])\n",
    "    clf = classifiers[i]\n",
    "    clf.fit(train_set, np.ndarray.flatten(train_label))\n",
    "    prediction = clf.predict(test_set)\n",
    "    print(names[i], accuracy_score(test_label, prediction))\n",
    "    print(confusion_matrix(test_label, prediction, labels = np.unique(test_label)))\n",
    "    print('\\n')\n",
    "    "
   ]
  },
  {
   "cell_type": "markdown",
   "metadata": {},
   "source": [
    "### Feature selection and classification"
   ]
  },
  {
   "cell_type": "code",
   "execution_count": 24,
   "metadata": {
    "collapsed": true
   },
   "outputs": [],
   "source": [
    "num_feats = np.arange(np.array(train_set, dtype = float).shape[1], 0, -1)\n",
    "accuracies = np.zeros([len(classifiers), len(num_feats)])"
   ]
  },
  {
   "cell_type": "code",
   "execution_count": 25,
   "metadata": {
    "collapsed": false,
    "scrolled": false
   },
   "outputs": [
    {
     "name": "stdout",
     "output_type": "stream",
     "text": [
      "Selected 20 features ranked accdg to score: \t [ 0  1  3  5  2 12 11  9 10  4  6  7 15  8 17 16 19 18 13 14]\n",
      "Selected 19 features ranked accdg to score: \t [ 0  1  3  5  2 12 11  9 10  4  6  7 15  8 17 16 19 18 13]\n",
      "Selected 18 features ranked accdg to score: \t [ 0  1  3  5  2 12 11  9 10  4  6  7 15  8 17 16 19 18]\n",
      "Selected 17 features ranked accdg to score: \t [ 0  1  3  5  2 12 11  9 10  4  6  7 15  8 17 16 19]\n",
      "Selected 16 features ranked accdg to score: \t [ 1  0  3  5  2 12 11  9 10  4  6  7 15  8 17 16]\n",
      "Selected 15 features ranked accdg to score: \t [ 1  0  3  5  2 12 11  9 10  4  6  7 15  8 17]\n",
      "Selected 14 features ranked accdg to score: \t [ 1  0  3  5  2 12 11  9 10  4  6  7 15  8]\n",
      "Selected 13 features ranked accdg to score: \t [ 1  0  3  5  2 12 11  9 10  4  6  7 15]\n",
      "Selected 12 features ranked accdg to score: \t [ 1  0  3  5  2 12 11  9 10  4  6  7]\n",
      "Selected 11 features ranked accdg to score: \t [ 1  0  3  5  2 12 11  9 10  4  6]\n",
      "Selected 10 features ranked accdg to score: \t [ 1  0  3  5  2 12 11  9 10  4]\n",
      "Selected 9 features ranked accdg to score: \t [ 1  0  3  5  2 12 11  9 10]\n",
      "Selected 8 features ranked accdg to score: \t [ 1  0  3  5  2 12 11  9]\n",
      "Selected 7 features ranked accdg to score: \t [ 1  0  3  5  2 12 11]\n",
      "Selected 6 features ranked accdg to score: \t [ 1  0  3  5  2 12]\n",
      "Selected 5 features ranked accdg to score: \t [1 0 3 5 2]\n",
      "Selected 4 features ranked accdg to score: \t [1 0 3 5]\n",
      "Selected 3 features ranked accdg to score: \t [1 0 3]\n",
      "Selected 2 features ranked accdg to score: \t [1 0]\n",
      "Selected 1 features ranked accdg to score: \t [1]\n"
     ]
    }
   ],
   "source": [
    "for i in range(len(num_feats)):\n",
    "    feat_filter = SelectKBest(f_regression, k=num_feats[i])\n",
    "    feat_filter.fit(np.array(train_set, dtype = float), train_label)\n",
    "    train_set_filt = feat_filter.transform(train_set.astype(float))\n",
    "    test_set_filt = feat_filter.transform(test_set.astype(float))\n",
    "\n",
    "    selected = feat_filter.transform(np.reshape(np.arange(np.array(train_set, dtype = float).shape[1]), [1, -1]))\n",
    "    select_scores = feat_filter.transform(np.reshape(feat_filter.scores_, [1, -1]))\n",
    "    print('Selected {} features ranked accdg to score: \\t {}'.format(num_feats[i], selected[0][np.fliplr(select_scores.argsort())[0]]))\n",
    "    \n",
    "    for j in range(len(classifiers)):\n",
    "        clf = classifiers[j]\n",
    "        clf.fit(train_set_filt, train_label)\n",
    "        prediction = clf.predict(test_set_filt)\n",
    "        \n",
    "        accuracies[j, i] = accuracy_score(test_label, prediction)\n",
    "#         print('\\t {:>16} \\t : {}'.format(names[j], selected[0][np.fliplr(select_scores.argsort())[0]]))"
   ]
  },
  {
   "cell_type": "code",
   "execution_count": 26,
   "metadata": {
    "collapsed": false
   },
   "outputs": [
    {
     "data": {
      "text/plain": [
       "<matplotlib.text.Text at 0x21b369890>"
      ]
     },
     "execution_count": 26,
     "metadata": {},
     "output_type": "execute_result"
    },
    {
     "data": {
      "image/png": "[encoded data removed]",
      "text/plain": [
       "<matplotlib.figure.Figure at 0x3a8ec6c90>"
      ]
     },
     "metadata": {},
     "output_type": "display_data"
    }
   ],
   "source": [
    "from seaborn import heatmap\n",
    "\n",
    "# plt.figure(figsize=[8, 7])\n",
    "heatmap(accuracies, vmin=0, vmax = 1, yticklabels = names, xticklabels=num_feats, cmap=\"YlGnBu\")\n",
    "plt.title('Accuracy Map')"
   ]
  },
  {
   "cell_type": "code",
   "execution_count": null,
   "metadata": {
    "collapsed": true
   },
   "outputs": [],
   "source": []
  }
 ],
 "metadata": {
  "anaconda-cloud": {},
  "kernelspec": {
   "display_name": "Python [Root]",
   "language": "python",
   "name": "Python [Root]"
  },
  "language_info": {
   "codemirror_mode": {
    "name": "ipython",
    "version": 2
   },
   "file_extension": ".py",
   "mimetype": "text/x-python",
   "name": "python",
   "nbconvert_exporter": "python",
   "pygments_lexer": "ipython2",
   "version": "2.7.12"
  }
 },
 "nbformat": 4,
 "nbformat_minor": 0
}
