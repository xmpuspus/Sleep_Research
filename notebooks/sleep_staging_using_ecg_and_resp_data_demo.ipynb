{
 "cells": [
  {
   "cell_type": "code",
   "execution_count": 1,
   "metadata": {
    "collapsed": false
   },
   "outputs": [],
   "source": [
    "from __future__ import division\n",
    "import os\n",
    "import numpy as np\n",
    "import pandas as pd\n",
    "import matplotlib.pyplot as plt\n",
    "import scipy.signal as ss\n",
    "from scipy.stats import skew, kurtosis\n",
    "import itertools\n",
    "import pickle\n",
    "import glob\n",
    "import seaborn as sns\n",
    "import time\n",
    "from copy import deepcopy\n",
    "from sklearn.metrics import accuracy_score\n",
    "\n",
    "import wfdb\n",
    "from biosppy.signals import ecg\n",
    "import nolds\n",
    "import sampen\n",
    "\n",
    "import sleep_utils as su\n",
    "\n",
    "%matplotlib inline\n",
    "sns.set()\n",
    "pd.set_option(\"display.max_columns\", None)\n",
    "%load_ext autoreload\n",
    "%autoreload 2"
   ]
  },
  {
   "cell_type": "markdown",
   "metadata": {},
   "source": [
    "### Load Classifiers and Scaler"
   ]
  },
  {
   "cell_type": "code",
   "execution_count": 2,
   "metadata": {
    "collapsed": false
   },
   "outputs": [],
   "source": [
    "classifier_without_prevstage = pickle.load(open(\"sleep_stage_classifier_without_previousstage_update.pkl\", \"rb\" ))\n",
    "classifier_with_prevstage = pickle.load(open(\"sleep_stage_classifier_with_previousstage_update.pkl\", \"rb\" ))\n",
    "\n",
    "Scaling_Function_physio = pickle.load(open(\"scaling_function_without_previousstage_update.pkl\", \"rb\" ))\n",
    "Scaling_Function_all = pickle.load(open(\"scaling_function_with_previousstage_update.pkl\", \"rb\" ))"
   ]
  },
  {
   "cell_type": "markdown",
   "metadata": {},
   "source": [
    "### Load data"
   ]
  },
  {
   "cell_type": "code",
   "execution_count": 3,
   "metadata": {
    "collapsed": true
   },
   "outputs": [],
   "source": [
    "data_dir = '../data/PSG_database/'\n",
    "\n",
    "sleep_data_sigs = {}\n",
    "sleep_data_fields = {}\n",
    "\n",
    "data_keys = []\n",
    "for fname in glob.iglob(data_dir + '/*.dat'):#, recursive=True):\n",
    "    # filename manipulation\n",
    "    base = os.path.basename(fname)\n",
    "    key = os.path.splitext(base)[0]\n",
    "    data_keys.append(key)\n",
    "    \n",
    "    # load data\n",
    "    sig, fields=wfdb.rdsamp(data_dir+key)\n",
    "    sleep_data_sigs[key] = sig\n",
    "    sleep_data_fields[key] = fields"
   ]
  },
  {
   "cell_type": "code",
   "execution_count": 4,
   "metadata": {
    "collapsed": true
   },
   "outputs": [],
   "source": [
    "# load labels \n",
    "ann_index = {}\n",
    "ann_labels = {}\n",
    "\n",
    "set_stages = set()\n",
    "for key in data_keys:\n",
    "    annotation = wfdb.rdann(data_dir + key, 'st')\n",
    "    ann_index_sig = annotation[0]\n",
    "    ann_label_sig = annotation[5]\n",
    "    label_filt = [(x, y) for x, y in zip(ann_index_sig, ann_label_sig) if x >1 ]\n",
    "    unzipped = zip(*label_filt)\n",
    "    ann_index[key] = unzipped[0]\n",
    "    ann_labels[key] = unzipped[1]"
   ]
  },
  {
   "cell_type": "code",
   "execution_count": 5,
   "metadata": {
    "collapsed": true
   },
   "outputs": [],
   "source": [
    "resp_data_set = {}\n",
    "ecg_data_set = {}\n",
    "time_data_set = {}\n",
    "annot_data_set = {}\n",
    "\n",
    "fs = 250\n",
    "\n",
    "for key in data_keys:\n",
    "    \n",
    "    resp_data_set[key] = (sleep_data_sigs[key])[:, (sleep_data_fields[key])['signame'].index('Resp')]\n",
    "    ecg_data_set[key] = (sleep_data_sigs[key])[:, (sleep_data_fields[key])['signame'].index('ECG')]\n",
    "    time_data_set[key] = np.arange(0, len(resp_data_set[key]))/fs\n",
    "\n",
    "    # Note: Only the first character of the annotation was taken as label\n",
    "    # Example: 1, 2, 3, 4, R, W, M\n",
    "    stages_list = [x.rsplit(' ')[0][0] for x in ann_labels[key]]\n",
    "\n",
    "    annot_data_set[key] = stages_list\n"
   ]
  },
  {
   "cell_type": "code",
   "execution_count": 6,
   "metadata": {
    "collapsed": false
   },
   "outputs": [
    {
     "data": {
      "text/plain": [
       "['slp01a',\n",
       " 'slp01b',\n",
       " 'slp02a',\n",
       " 'slp02b',\n",
       " 'slp03',\n",
       " 'slp04',\n",
       " 'slp14',\n",
       " 'slp16',\n",
       " 'slp32',\n",
       " 'slp37',\n",
       " 'slp41',\n",
       " 'slp45',\n",
       " 'slp48',\n",
       " 'slp59',\n",
       " 'slp60',\n",
       " 'slp61',\n",
       " 'slp66',\n",
       " 'slp67x']"
      ]
     },
     "execution_count": 6,
     "metadata": {},
     "output_type": "execute_result"
    }
   ],
   "source": [
    "# keys corresponding to patients in the database\n",
    "data_keys"
   ]
  },
  {
   "cell_type": "code",
   "execution_count": 7,
   "metadata": {
    "collapsed": false
   },
   "outputs": [
    {
     "name": "stdout",
     "output_type": "stream",
     "text": [
      "slp01a\n"
     ]
    }
   ],
   "source": [
    "key_patient = data_keys[0]\n",
    "print(key_patient)"
   ]
  },
  {
   "cell_type": "markdown",
   "metadata": {},
   "source": [
    "#### *Divide sample into epochs*"
   ]
  },
  {
   "cell_type": "code",
   "execution_count": 8,
   "metadata": {
    "collapsed": true
   },
   "outputs": [],
   "source": [
    "win_dur = 30 # duration of window, unit: seconds, size of one epoch "
   ]
  },
  {
   "cell_type": "code",
   "execution_count": 9,
   "metadata": {
    "collapsed": false
   },
   "outputs": [],
   "source": [
    "# Respiratory frequency range \n",
    "min_normrange = 4/60 # unit: cycles per second\n",
    "max_normrange = 65/60 # unit: cycles per second\n",
    "\n",
    "resp_data_set_epochs = {}\n",
    "\n",
    "resp_sig = resp_data_set[key_patient]\n",
    "fft_resp = np.fft.fft(resp_sig)\n",
    "fft_freqs = np.fft.fftfreq(len(resp_sig), 1/fs)\n",
    "\n",
    "# Remove frequencies which are outside the expected range\n",
    "fft_resp[abs(fft_freqs) < min_normrange] = 0\n",
    "fft_resp[abs(fft_freqs) > max_normrange] = 0\n",
    "\n",
    "resp_filt_sig = np.real(np.fft.ifft(fft_resp))\n",
    "time_sig = np.arange(len(resp_sig))/fs\n",
    "\n",
    "resp_windows = su.divide_to_epochs(resp_filt_sig, ann_index[key_patient], win_dur, fs)\n",
    "time_windows = su.divide_to_epochs(time_sig, ann_index[key_patient], win_dur, fs)\n",
    "resp_data_set_epochs[key_patient] = pd.DataFrame({'resp': list(resp_windows), '_time': list(time_windows)})\n"
   ]
  },
  {
   "cell_type": "code",
   "execution_count": 10,
   "metadata": {
    "collapsed": true
   },
   "outputs": [],
   "source": [
    "ecg_data_set_epochs = {}\n",
    "\n",
    "ecg_sig = ecg_data_set[key_patient]\n",
    "time_sig = np.arange(len(ecg_sig))/fs\n",
    "\n",
    "ecg_windows = su.divide_to_epochs(ecg_sig, ann_index[key_patient], win_dur, fs)\n",
    "time_windows = su.divide_to_epochs(time_sig, ann_index[key_patient], win_dur, fs)\n",
    "ecg_data_set_epochs[key_patient] = pd.DataFrame({'ecg': list(ecg_windows), '_time': list(time_windows)})"
   ]
  },
  {
   "cell_type": "markdown",
   "metadata": {},
   "source": [
    "## Extract features"
   ]
  },
  {
   "cell_type": "code",
   "execution_count": 11,
   "metadata": {
    "collapsed": true
   },
   "outputs": [],
   "source": [
    "resp_data = resp_data_set_epochs[key_patient]\n",
    "ecg_data = ecg_data_set_epochs[key_patient]\n",
    "annot_data = annot_data_set[key_patient]"
   ]
  },
  {
   "cell_type": "code",
   "execution_count": 12,
   "metadata": {
    "collapsed": false,
    "scrolled": true
   },
   "outputs": [],
   "source": [
    "label_dict = dict(zip(['1', '2', '3', '4', 'R', 'W', 'M'], [1, 2, 3, 3, 4, 5, 6]))\n",
    "label = [label_dict[x] for x in annot_data]"
   ]
  },
  {
   "cell_type": "code",
   "execution_count": 13,
   "metadata": {
    "collapsed": false
   },
   "outputs": [],
   "source": [
    "def compute_features(resp_data, ecg_data, annot_data = None, with_previous_stage = True):\n",
    "    features = []\n",
    "    if with_previous_stage:\n",
    "        \n",
    "        # Minimum vs mean of respiration signal amplitude\n",
    "        amplitude = resp_data.resp.apply(lambda x: su.compute_amplitude(x, fs, 'resp'))\n",
    "        features.append(amplitude.apply(lambda x: np.nanmin(x)/np.nanmean(x)).values)\n",
    "        \n",
    "        # Maximum magnitude of ECG signal\n",
    "        features.append(ecg_data.ecg.apply(lambda x: np.nanmax(x)).values)\n",
    "    \n",
    "        # Standard deviation of ECG signal\n",
    "        features.append(ecg_data.ecg.apply(lambda x: np.nanstd(x)).values)\n",
    "        \n",
    "        # Standard deviation vs mean of ECG signal\n",
    "        features.append(ecg_data.ecg.apply(lambda x: np.nanstd(x)/np.nanmean(x)).values)\n",
    "        \n",
    "        # Zero crossings count of ECG signal\n",
    "        features.append(ecg_data.ecg.apply(lambda x: su.Zero_Crossing_Counts(x)).values)\n",
    "                \n",
    "        # Kurtosis of ECG signal\n",
    "        features.append(ecg_data.ecg.apply(lambda x: kurtosis(x)).values)     \n",
    "\n",
    "        # Skewness of ECG signal\n",
    "        features.append(ecg_data.ecg.apply(lambda x: skew(x)).values)     \n",
    "    \n",
    "        previous = annot_data[1:]\n",
    "        prev_stage = [np.nan] + previous\n",
    "        \n",
    "        # NREM-light or not\n",
    "        features.append([np.nan] + map(lambda x: 0 if x not in ['1', '2'] else 1, previous))\n",
    "    \n",
    "        # NREM-deep or not\n",
    "        features.append([np.nan] +map(lambda x: 0 if x not in ['3', '4'] else 1, previous))\n",
    "    \n",
    "        # REM or not\n",
    "        features.append([np.nan] + map(lambda x: 0 if x!= 'R' else 1, previous))\n",
    "    \n",
    "        # Wake or not\n",
    "        features.append([np.nan] + map(lambda x: 0 if x!= 'W' else 1, previous))\n",
    "        \n",
    "        # Movement or not\n",
    "        features.append([np.nan] + map(lambda x: 0 if x!= 'M' else 1, previous))\n",
    "    \n",
    "    else:\n",
    "        \n",
    "        # Respiration rate\n",
    "        resp_data['power_spectrum'] = resp_data.resp.apply(lambda x: ss.periodogram(x, fs=fs))\n",
    "        features.append(resp_data.power_spectrum.apply(lambda x: (x[0])[np.argmax(x[1])]*60).values)\n",
    "\n",
    "        # Maximum magnitude of respiration signal\n",
    "        features.append(resp_data.resp.apply(lambda x: np.nanmax(x)).values)\n",
    "   \n",
    "        # Standard deviation of respiration signal\n",
    "        features.append(resp_data.resp.apply(lambda x: np.nanstd(x)).values)\n",
    "    \n",
    "        #  Zero crossings count of respiration signal\n",
    "        features.append(resp_data.resp.apply(lambda x: su.Zero_Crossing_Counts(x)).values)\n",
    "        \n",
    "        # Get time corresponding to R peaks\n",
    "        ecg_data['r_peaks'] = ecg_data.ecg.apply(lambda x: ecg.hamilton_segmenter(x, sampling_rate=250)['rpeaks'])\n",
    "        ecg_data['r_time'] = ecg_data.apply(lambda x: list(x._time[x.r_peaks]), axis = 1)\n",
    "    \n",
    "        # Heart rate variability\n",
    "        features.append(ecg_data.r_time.apply(lambda x: su.heart_rate_var(np.array(x))*1000).values)\n",
    "    \n",
    "        # Mean magnitude of ECG signal\n",
    "        features.append(ecg_data.ecg.apply(lambda x: np.nanmean(x)).values)\n",
    "        \n",
    "        # Maximum magnitude of ECG signal\n",
    "        features.append(ecg_data.ecg.apply(lambda x: np.nanmax(x)).values)\n",
    "            \n",
    "        # Standard deviation of magnitude of ECG signal\n",
    "        features.append(ecg_data.ecg.apply(lambda x: np.std(x)).values)\n",
    "    \n",
    "        # Standard deviation vs mean of ECG signal\n",
    "        features.append(ecg_data.ecg.apply(lambda x: np.nanstd(x)/np.nanmean(x)).values)\n",
    "\n",
    "        # Mean vs standard deviation of ECG signal amplitude\n",
    "        amplitude = ecg_data.ecg.apply(lambda x: su.compute_amplitude(x, fs, 'ecg'))\n",
    "        features.append(amplitude.apply(lambda x: np.nanmean(x)/np.nanstd(x)).values)\n",
    "    \n",
    "        # Sample entropy of ECG signal\n",
    "        features.append(ecg_data.ecg.apply(lambda x: (nolds.sampen(x))).values)   \n",
    "    \n",
    "        # Zero crossings count of ECG signal\n",
    "        features.append(ecg_data.ecg.apply(lambda x: su.Zero_Crossing_Counts(x)).values)   \n",
    "    \n",
    "        # Kurtosis of ecg\n",
    "        features.append(ecg_data.ecg.apply(lambda x: kurtosis(x)).values) \n",
    "    \n",
    "        # Skewness of ecg\n",
    "        features.append(ecg_data.ecg.apply(lambda x: skew(x)).values)\n",
    "    \n",
    "    return features"
   ]
  },
  {
   "cell_type": "markdown",
   "metadata": {},
   "source": [
    "#### *Calculate features without previous stage*"
   ]
  },
  {
   "cell_type": "code",
   "execution_count": 14,
   "metadata": {
    "collapsed": true
   },
   "outputs": [],
   "source": [
    "feat_set1 = compute_features(resp_data, ecg_data, with_previous_stage = False)"
   ]
  },
  {
   "cell_type": "markdown",
   "metadata": {},
   "source": [
    "Standardize the computed features features using the scaling function (column 1: mean, column 2: std)"
   ]
  },
  {
   "cell_type": "code",
   "execution_count": 15,
   "metadata": {
    "collapsed": true
   },
   "outputs": [],
   "source": [
    "features1 = ((np.vstack(feat_set1)).T - Scaling_Function_physio[:, 0])/Scaling_Function_physio[:, 1]\n",
    "features1 = features1[np.isfinite(features1).all(axis=1)]"
   ]
  },
  {
   "cell_type": "code",
   "execution_count": 16,
   "metadata": {
    "collapsed": false
   },
   "outputs": [
    {
     "data": {
      "text/plain": [
       "<matplotlib.legend.Legend at 0x1188142d0>"
      ]
     },
     "execution_count": 16,
     "metadata": {},
     "output_type": "execute_result"
    },
    {
     "data": {
      "image/png": "[encoded data removed]",
      "text/plain": [
       "<matplotlib.figure.Figure at 0x1183a8550>"
      ]
     },
     "metadata": {},
     "output_type": "display_data"
    }
   ],
   "source": [
    "plt.figure(figsize=[16, 3])\n",
    "plt.plot(label, label = 'ground truth')\n",
    "plt.plot(classifier_without_prevstage.predict(features1), '--o', label = 'prediction')\n",
    "plt.legend(loc= 1)"
   ]
  },
  {
   "cell_type": "code",
   "execution_count": 17,
   "metadata": {
    "collapsed": false
   },
   "outputs": [
    {
     "name": "stdout",
     "output_type": "stream",
     "text": [
      "Accuracy: 0.824267782427\n"
     ]
    }
   ],
   "source": [
    "print(\"Accuracy: {}\".format(accuracy_score(label, classifier_without_prevstage.predict(features1))))"
   ]
  },
  {
   "cell_type": "markdown",
   "metadata": {},
   "source": [
    "#### *Calculate features with previous stage*"
   ]
  },
  {
   "cell_type": "code",
   "execution_count": 18,
   "metadata": {
    "collapsed": false,
    "scrolled": false
   },
   "outputs": [],
   "source": [
    "feat_set2 = compute_features(resp_data, ecg_data, annot_data, with_previous_stage = True)"
   ]
  },
  {
   "cell_type": "code",
   "execution_count": 19,
   "metadata": {
    "collapsed": false
   },
   "outputs": [
    {
     "data": {
      "text/plain": [
       "<matplotlib.legend.Legend at 0x15bce0dd0>"
      ]
     },
     "execution_count": 19,
     "metadata": {},
     "output_type": "execute_result"
    },
    {
     "data": {
      "image/png": "[encoded data removed]",
      "text/plain": [
       "<matplotlib.figure.Figure at 0x118c3bb10>"
      ]
     },
     "metadata": {},
     "output_type": "display_data"
    }
   ],
   "source": [
    "features2 = ((np.vstack(feat_set2)).T - Scaling_Function_all[:, 0])/Scaling_Function_all[:, 1]\n",
    "features2 = features2[np.isfinite(features2).all(axis=1)]\n",
    "\n",
    "plt.figure(figsize=[16, 3])\n",
    "plt.plot(label[1:], label = 'ground truth')\n",
    "plt.plot(classifier_with_prevstage.predict(features2), '--o', label = 'prediction')\n",
    "plt.legend(loc= 'best')"
   ]
  },
  {
   "cell_type": "code",
   "execution_count": 20,
   "metadata": {
    "collapsed": false
   },
   "outputs": [
    {
     "name": "stdout",
     "output_type": "stream",
     "text": [
      "Accuracy: 0.987394957983\n"
     ]
    }
   ],
   "source": [
    "print(\"Accuracy: {}\".format(accuracy_score(label[1:], classifier_with_prevstage.predict(features2))))"
   ]
  },
  {
   "cell_type": "markdown",
   "metadata": {},
   "source": [
    "## Sequential prediction"
   ]
  },
  {
   "cell_type": "code",
   "execution_count": 21,
   "metadata": {
    "collapsed": false
   },
   "outputs": [],
   "source": [
    "def compute_features_per_epoch(resp_data, ecg_data, annot_data = None, with_previous_stage = True):\n",
    "    features = []\n",
    "    if with_previous_stage:\n",
    "        # Minimum vs mean of respiration signal amplitude\n",
    "        amplituderesp = su.compute_amplitude(resp_data, fs, 'resp')\n",
    "        features.append(np.nanmin(amplituderesp)/np.nanmean(amplituderesp))\n",
    "        \n",
    "        # Maximum magnitude of ECG signal\n",
    "        features.append(np.nanmax(ecg_data))\n",
    "    \n",
    "        # Standard deviation of ECG signal\n",
    "        features.append(np.nanstd(ecg_data))\n",
    "        \n",
    "        # Standard deviation vs mean of ECG signal\n",
    "        features.append(np.nanstd(ecg_data)/np.nanmean(ecg_data))\n",
    "        \n",
    "        # Zero crossings count of ECG signal\n",
    "        features.append(su.Zero_Crossing_Counts(ecg_data))\n",
    "                \n",
    "        # Kurtosis of ECG signal\n",
    "        features.append(kurtosis(ecg_data))\n",
    "\n",
    "        # Skewness of ECG signal\n",
    "        features.append(skew(ecg_data))\n",
    "        \n",
    "        # NREM-light or not\n",
    "        features.append(float(annot_data in [1, 2]))\n",
    "    \n",
    "        # NREM-deep or not\n",
    "        features.append(float(annot_data == 3))\n",
    "    \n",
    "        # REM or not\n",
    "        features.append(float(annot_data == 4))\n",
    "    \n",
    "        # Wake or not\n",
    "        features.append(float(annot_data == 5))\n",
    "        \n",
    "        # Movement or not\n",
    "        features.append(float(annot_data == 6))\n",
    "        \n",
    "    else:\n",
    "        \n",
    "        # Respiration rate\n",
    "        power_spectrum = ss.periodogram(resp_data, fs=fs)\n",
    "        features.append((power_spectrum[0])[np.argmax(power_spectrum[1])]*60)\n",
    "\n",
    "        # Maximum magnitude of respiration signal\n",
    "        features.append(np.nanmax(resp_data))\n",
    "        \n",
    "        # Standard deviation of respiration signal\n",
    "        features.append(np.nanstd(resp_data))\n",
    "    \n",
    "        #  Zero crossings count of respiration signal\n",
    "        features.append(su.Zero_Crossing_Counts(resp_data))\n",
    "        \n",
    "        # Get time corresponding to R peaks\n",
    "        rpeaks = ecg.hamilton_segmenter(ecg_data, sampling_rate=250)['rpeaks']\n",
    "        rtime = np.arange(0, 1/fs*len(ecg_data), 1/fs)[rpeaks]\n",
    "    \n",
    "        # Heart rate variability\n",
    "        features.append(su.heart_rate_var(np.array(rtime))*1000)\n",
    "    \n",
    "        # Mean magnitude of ECG signal\n",
    "        features.append(np.nanmean(ecg_data))\n",
    "        \n",
    "        # Maximum magnitude of ECG signal\n",
    "        features.append(np.nanmax(ecg_data))\n",
    "            \n",
    "        # Standard deviation of magnitude of ECG signal\n",
    "        features.append(np.std(ecg_data))\n",
    "    \n",
    "        # Standard deviation vs mean of ECG signal\n",
    "        features.append(np.nanstd(ecg_data)/np.nanmean(ecg_data))\n",
    "\n",
    "        # Mean vs standard deviation of ECG signal amplitude\n",
    "        amplitudeecg = su.compute_amplitude(ecg_data, fs, 'ecg')\n",
    "        features.append(np.nanmean(amplitudeecg)/np.nanstd(amplitudeecg))\n",
    "        \n",
    "        # Sample entropy of ECG signal\n",
    "        features.append(nolds.sampen(ecg_data))\n",
    "    \n",
    "        # Zero crossings count of ECG signal\n",
    "        features.append(su.Zero_Crossing_Counts(ecg_data))\n",
    "    \n",
    "        # Kurtosis of ECG signal\n",
    "        features.append(kurtosis(ecg_data))\n",
    "    \n",
    "        # Skewness of ECG signal\n",
    "        features.append(skew(ecg_data))\n",
    "        \n",
    "    \n",
    "    return features"
   ]
  },
  {
   "cell_type": "markdown",
   "metadata": {},
   "source": [
    "** *Note: The first epoch is predicted using the classifier trained on features excluding previous stage. The succeeding epochs are tested on the other classifier (with previous stage as features) but using the prediction of the previous epoch as input.* **"
   ]
  },
  {
   "cell_type": "code",
   "execution_count": 22,
   "metadata": {
    "collapsed": false
   },
   "outputs": [],
   "source": [
    "prediction = []\n",
    "\n",
    "for i in range(len(resp_data)):\n",
    "    resp_sig = resp_data.resp.ix[i]\n",
    "    ecg_sig = ecg_data.ecg.ix[i]\n",
    "    \n",
    "    if i == 0:\n",
    "        feats = compute_features_per_epoch(resp_sig, ecg_sig, with_previous_stage=False)\n",
    "        feats = (feats - Scaling_Function_physio[:, 0])/Scaling_Function_physio[:, 1]\n",
    "        prediction.append(classifier_without_prevstage.predict(feats.reshape(1, -1))[0])\n",
    "                 \n",
    "    else:\n",
    "        feats = compute_features_per_epoch(resp_sig, ecg_sig, annot_data= prediction[-1], with_previous_stage=True)\n",
    "        feats = (feats - Scaling_Function_all[:, 0])/Scaling_Function_all[:, 1]\n",
    "        prediction.append(classifier_with_prevstage.predict(feats.reshape(1, -1))[0])\n",
    "        \n",
    "        "
   ]
  },
  {
   "cell_type": "code",
   "execution_count": 23,
   "metadata": {
    "collapsed": false
   },
   "outputs": [
    {
     "data": {
      "text/plain": [
       "<matplotlib.legend.Legend at 0x1eeabca90>"
      ]
     },
     "execution_count": 23,
     "metadata": {},
     "output_type": "execute_result"
    },
    {
     "data": {
      "image/png": "[encoded data removed]",
      "text/plain": [
       "<matplotlib.figure.Figure at 0x1183a8c10>"
      ]
     },
     "metadata": {},
     "output_type": "display_data"
    }
   ],
   "source": [
    "plt.figure(figsize=[16, 3])\n",
    "plt.plot(label, label = 'ground truth')\n",
    "plt.plot(prediction, '--o', label = 'prediction')\n",
    "plt.legend(loc= 'best')"
   ]
  },
  {
   "cell_type": "code",
   "execution_count": 24,
   "metadata": {
    "collapsed": false
   },
   "outputs": [
    {
     "name": "stdout",
     "output_type": "stream",
     "text": [
      "Accuracy: 0.468619246862\n"
     ]
    }
   ],
   "source": [
    "print(\"Accuracy: {}\".format(accuracy_score(label, prediction)))"
   ]
  },
  {
   "cell_type": "markdown",
   "metadata": {},
   "source": [
    "**Observation: **\n",
    "    \n",
    "The classifier trained on the the data set with previous stage as features assumes that the label of the previous stage is correct. Accuracy decreased drastically upon sequential prediction. "
   ]
  }
 ],
 "metadata": {
  "anaconda-cloud": {},
  "kernelspec": {
   "display_name": "Python [Root]",
   "language": "python",
   "name": "Python [Root]"
  },
  "language_info": {
   "codemirror_mode": {
    "name": "ipython",
    "version": 2
   },
   "file_extension": ".py",
   "mimetype": "text/x-python",
   "name": "python",
   "nbconvert_exporter": "python",
   "pygments_lexer": "ipython2",
   "version": "2.7.12"
  }
 },
 "nbformat": 4,
 "nbformat_minor": 0
}
